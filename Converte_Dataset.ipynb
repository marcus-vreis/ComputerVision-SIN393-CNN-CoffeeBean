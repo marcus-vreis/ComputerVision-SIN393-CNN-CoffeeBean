{
 "cells": [
  {
   "cell_type": "code",
   "execution_count": null,
   "id": "cb5396f4-4b86-47c7-9001-37d7ee08dcb0",
   "metadata": {},
   "outputs": [],
   "source": [
    "import os\n",
    "import shutil\n",
    "\n",
    "def remover_classes(base_path, subpastas, classes_para_remover):\n",
    "    for subpasta in subpastas:\n",
    "        for classe in classes_para_remover:\n",
    "            caminho_classe = os.path.join(base_path, subpasta, classe)\n",
    "            if os.path.exists(caminho_classe):\n",
    "                shutil.rmtree(caminho_classe)\n",
    "                print(f\"Pasta removida: {caminho_classe}\")\n",
    "            else:\n",
    "                print(f\"Pasta nao encontrada: {caminho_classe}\")\n",
    "\n",
    "# Caminho da pasta principal\n",
    "caminho_principal = \"USK-Coffee\"\n",
    "\n",
    "# Subpastas a serem processadas\n",
    "subpastas = [\"val\", \"test\", \"train\"]\n",
    "\n",
    "# Classes a serem removidas\n",
    "classes_para_remover = [\"peaberry\", \"longberry\"]\n",
    "\n",
    "# Executando a funcao\n",
    "remover_classes(caminho_principal, subpastas, classes_para_remover)"
   ]
  }
 ],
 "metadata": {
  "kernelspec": {
   "display_name": "Python 3 (ipykernel)",
   "language": "python",
   "name": "python3"
  },
  "language_info": {
   "codemirror_mode": {
    "name": "ipython",
    "version": 3
   },
   "file_extension": ".py",
   "mimetype": "text/x-python",
   "name": "python",
   "nbconvert_exporter": "python",
   "pygments_lexer": "ipython3",
   "version": "3.8.18"
  }
 },
 "nbformat": 4,
 "nbformat_minor": 5
}
